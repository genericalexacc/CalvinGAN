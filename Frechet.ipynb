{
 "cells": [
  {
   "cell_type": "code",
   "execution_count": 80,
   "metadata": {},
   "outputs": [],
   "source": [
    "# inspired by https://machinelearningmastery.com/how-to-implement-the-frechet-inception-distance-fid-from-scratch/\n",
    "\n",
    "import os\n",
    "import numpy as np\n",
    "import random\n",
    "import scipy.stats\n",
    "from PIL import Image\n",
    "import matplotlib.pyplot as plt\n",
    "from cmath import sqrt\n",
    "import skimage.measure\n",
    "\n",
    "scipy.stats.norm.pdf(6,2.0,1.0)\n",
    "\n",
    "def calculate_fid(act1, act2):\n",
    "    mu1, sigma1 = act1.mean(axis=0), np.cov(act1, rowvar=False)\n",
    "    mu2, sigma2 = act2.mean(axis=0), np.cov(act2, rowvar=False)\n",
    "    ssdiff = np.sum((mu1 - mu2)**2.0)\n",
    "    covmean = sqrt(sigma1 * sigma2)\n",
    "    if not covmean.imag == 0:\n",
    "        covmean = covmean.real\n",
    "    fid = ssdiff + sigma1 + sigma2 - 2.0 * covmean\n",
    "    return fid\n",
    "\n",
    "def getImage(path):\n",
    "    return np.asarray(Image.open(path)).reshape(-1)\n",
    "\n",
    "def sumL(l):\n",
    "    sums = 0\n",
    "    for i in l:\n",
    "        sums += i\n",
    "    return sums\n",
    "\n",
    "filelist=os.listdir('./real')\n",
    "for fichier in filelist[:]:\n",
    "    if not(fichier.endswith(\".jpg\")):\n",
    "        filelist.remove(fichier)"
   ]
  },
  {
   "cell_type": "code",
   "execution_count": 69,
   "metadata": {},
   "outputs": [],
   "source": [
    "random.shuffle(filelist)\n",
    "\n",
    "realFid = []\n",
    "for i in filelist[0:50]:\n",
    "    for j in filelist[0:50]:\n",
    "        if i == j:\n",
    "            continue\n",
    "        a = getImage('./real/'+i)\n",
    "        b = getImage('./real/'+j)\n",
    "        fid = calculate_fid(a, b)\n",
    "        realFid.append(fid)"
   ]
  },
  {
   "cell_type": "code",
   "execution_count": 82,
   "metadata": {},
   "outputs": [
    {
     "name": "stdout",
     "output_type": "stream",
     "text": [
      "Average FID Real Images:  (1247.6415005652923+0j)\n"
     ]
    }
   ],
   "source": [
    "sum = sumL(realFid)\n",
    "    \n",
    "print(\"Average FID Real Images: \", sum / len(realFid))"
   ]
  },
  {
   "cell_type": "code",
   "execution_count": 71,
   "metadata": {},
   "outputs": [],
   "source": [
    "filelistFake=os.listdir('./image_bank')\n",
    "for fichier in filelistFake[:]:\n",
    "    if not(fichier.endswith(\".png\")) or fichier.count(\"_\") == 1:\n",
    "        filelistFake.remove(fichier)\n",
    "        \n",
    "random.shuffle(filelistFake)\n",
    "fakeFid = []\n",
    "for i in filelist[0:50]:\n",
    "    for j in filelistFake[0:50]:\n",
    "        a = getImage('./real/' + i)\n",
    "        b = getImage('./image_bank/' +j)\n",
    "        fid = calculate_fid(a, b)\n",
    "        fakeFid.append(fid)"
   ]
  },
  {
   "cell_type": "code",
   "execution_count": 83,
   "metadata": {},
   "outputs": [
    {
     "name": "stdout",
     "output_type": "stream",
     "text": [
      "Average FID Fake Images:  (1526.7410328494802+0j)\n"
     ]
    }
   ],
   "source": [
    "sumF = sumL(fakeFid)\n",
    "print(\"Average FID Fake Images: \", sumF / len(fakeFid))"
   ]
  },
  {
   "cell_type": "code",
   "execution_count": 89,
   "metadata": {},
   "outputs": [
    {
     "name": "stdout",
     "output_type": "stream",
     "text": [
      "Real images average Shannon entropy 4.199968737721478\n"
     ]
    }
   ],
   "source": [
    "entropiesReal = []\n",
    "for i in filelist[0:50]:\n",
    "    entropiesReal.append(skimage.measure.shannon_entropy(getImage('./real/' + i)))\n",
    "print(\"Real images average Shannon entropy\", sumL(entropiesReal) / len(entropiesReal))"
   ]
  },
  {
   "cell_type": "code",
   "execution_count": 90,
   "metadata": {},
   "outputs": [
    {
     "name": "stdout",
     "output_type": "stream",
     "text": [
      "Fake images average Shannon entropy 6.4645717430641305\n"
     ]
    }
   ],
   "source": [
    "entropiesFake = []\n",
    "for i in filelistFake[0:50]:\n",
    "    entropiesFake.append(skimage.measure.shannon_entropy(getImage('./image_bank/' + i)))\n",
    "print(\"Fake images average Shannon entropy\", sumL(entropiesFake) / len(entropiesFake))"
   ]
  }
 ],
 "metadata": {
  "kernelspec": {
   "display_name": "Python 3",
   "language": "python",
   "name": "python3"
  },
  "language_info": {
   "codemirror_mode": {
    "name": "ipython",
    "version": 3
   },
   "file_extension": ".py",
   "mimetype": "text/x-python",
   "name": "python",
   "nbconvert_exporter": "python",
   "pygments_lexer": "ipython3",
   "version": "3.8.3"
  }
 },
 "nbformat": 4,
 "nbformat_minor": 4
}
